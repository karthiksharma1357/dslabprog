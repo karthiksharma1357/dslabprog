{
  "nbformat": 4,
  "nbformat_minor": 0,
  "metadata": {
    "colab": {
      "provenance": []
    },
    "kernelspec": {
      "name": "python3",
      "display_name": "Python 3"
    },
    "language_info": {
      "name": "python"
    }
  },
  "cells": [
    {
      "cell_type": "code",
      "source": [
        "def io(char):\n",
        "  return char.isalnum()\n",
        "def evalexpr(pfe):\n",
        "  tstack=[]\n",
        "  for char in pfe:\n",
        "    if io(char):\n",
        "      tstack.append(float(char))\n",
        "    else:\n",
        "      op2=tstack.pop()\n",
        "      op1=tstack.pop()\n",
        "      if char==\"+\":\n",
        "        res=op1+op2\n",
        "      elif char==\"-\":\n",
        "        res=op1-op2\n",
        "      elif char==\"*\":\n",
        "        res=op1*op2\n",
        "      elif char==\"/\":\n",
        "        res=op1/op2\n",
        "      tstack.append(res)\n",
        "  return tstack.pop()\n",
        "pe1=input(\"enter the postfix expression\")\n",
        "res=evalexpr(pe1)\n",
        "print(res)"
      ],
      "metadata": {
        "colab": {
          "base_uri": "https://localhost:8080/"
        },
        "id": "43YlfwwyqJXI",
        "outputId": "9f0b1f44-401d-4afe-9841-90ce58ea6c68"
      },
      "execution_count": null,
      "outputs": [
        {
          "output_type": "stream",
          "name": "stdout",
          "text": [
            "enter the postfix expression546+*493/+*\n",
            "350.0\n"
          ]
        }
      ]
    },
    {
      "cell_type": "code",
      "execution_count": null,
      "metadata": {
        "colab": {
          "base_uri": "https://localhost:8080/"
        },
        "id": "poLkS0sIj9mq",
        "outputId": "6183fb18-9823-4230-fd04-4d975676603e"
      },
      "outputs": [
        {
          "output_type": "stream",
          "name": "stdout",
          "text": [
            "Enter the infix notation separated by space: 3 + 2 / 20 * 12 - 45 \n",
            "3220/12*45-+\n"
          ]
        }
      ],
      "source": [
        "def precedence(a):\n",
        "    if a==\"+\" or a==\"-\":\n",
        "        return 1\n",
        "    if a==\"*\" or a==\"/\":\n",
        "        return 2\n",
        "\n",
        "a = list(input(\"Enter the infix notation separated by space: \").split(\" \"))\n",
        "postfix = \"\"\n",
        "opstack = []\n",
        "for i in a:\n",
        "    if i in [\"+\", \"-\", \"*\", \"/\"]:\n",
        "        if((len(opstack)==0) or (precedence(i)>precedence(opstack[-1]))):\n",
        "            opstack.append(i)\n",
        "        else:\n",
        "            postfix+=opstack.pop()\n",
        "            opstack.append(i)\n",
        "    elif i==\" \":\n",
        "        continue\n",
        "    else:\n",
        "        postfix+=i\n",
        "while(len(opstack)!=0):\n",
        "    postfix+=opstack.pop()\n",
        "print(postfix)"
      ]
    },
    {
      "cell_type": "code",
      "source": [
        "def factorial(n):\n",
        " if (n==1 or n==0):\n",
        "   return 1\n",
        " else:\n",
        "    return n*factorial(n-1)\n",
        "x=int(input(\"Enter the number to find factorial of :\"))\n",
        "print(factorial(x))"
      ],
      "metadata": {
        "colab": {
          "base_uri": "https://localhost:8080/"
        },
        "id": "u_d-cT-omhWP",
        "outputId": "0a53e769-58b3-4e69-a33d-06b1634b6dff"
      },
      "execution_count": null,
      "outputs": [
        {
          "output_type": "stream",
          "name": "stdout",
          "text": [
            "Enter the number to find factorial of :7\n",
            "5040\n"
          ]
        }
      ]
    },
    {
      "cell_type": "code",
      "source": [
        "def fibonacci(n):\n",
        "  if n<=0:\n",
        "    print(\"incorrect input\")\n",
        "  elif n==1:\n",
        "    return 0\n",
        "  elif n==2:\n",
        "    return 1\n",
        "  else:\n",
        "    return fibonacci(n-1)+fibonacci(n-2)\n",
        "x=int(input(\"Enter the series range\"))\n",
        "for i in range(1,x+1):\n",
        "  print(fibonacci(i))"
      ],
      "metadata": {
        "colab": {
          "base_uri": "https://localhost:8080/"
        },
        "id": "XH-2ekcxmAb_",
        "outputId": "8ca3ddbb-a76e-4a24-8d8b-85d5f4f9b187"
      },
      "execution_count": null,
      "outputs": [
        {
          "output_type": "stream",
          "name": "stdout",
          "text": [
            "Enter the series range11\n",
            "0\n",
            "1\n",
            "1\n",
            "2\n",
            "3\n",
            "5\n",
            "8\n",
            "13\n",
            "21\n",
            "34\n",
            "55\n"
          ]
        }
      ]
    }
  ]
}