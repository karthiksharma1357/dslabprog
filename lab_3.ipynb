{
  "nbformat": 4,
  "nbformat_minor": 0,
  "metadata": {
    "colab": {
      "provenance": []
    },
    "kernelspec": {
      "name": "python3",
      "display_name": "Python 3"
    },
    "language_info": {
      "name": "python"
    }
  },
  "cells": [
    {
      "cell_type": "code",
      "execution_count": null,
      "metadata": {
        "colab": {
          "base_uri": "https://localhost:8080/"
        },
        "id": "YKH7r6NSf_Xt",
        "outputId": "21ec9fb5-1e1d-49c4-9a2a-dabdbb29d0e8"
      },
      "outputs": [
        {
          "output_type": "stream",
          "name": "stdout",
          "text": [
            "6\n",
            "5\n",
            "4\n",
            "3\n",
            "\n",
            "4\n",
            "5\n"
          ]
        }
      ],
      "source": [
        "#program to implement circular linked list\n",
        "class Node:\n",
        "    def __init__(self, data):\n",
        "        self.data = data\n",
        "        self.next = None\n",
        "class Cll:\n",
        "    def __init__(self):\n",
        "        self.last = None\n",
        "    def iob(self, data):\n",
        "        Nn = Node(data)\n",
        "        if self.last== None:\n",
        "         Nn = Node(data)\n",
        "         self.last = Nn\n",
        "         self.last.next = self.last\n",
        "        else:\n",
        "         Nn.next = self.last.next\n",
        "         self.last.next = Nn\n",
        "    def ioe(self, data):\n",
        "        if self.last == None:\n",
        "            return self.iob(data)\n",
        "        Nn = Node(data)\n",
        "        Nn.next = self.last.next\n",
        "        self.last.next = Nn\n",
        "        self.last = Nn\n",
        "    def dn(self, key):\n",
        "        if self.last == None:\n",
        "            return\n",
        "        if (self.last).data == key and (self.last).next == self.last:\n",
        "            self.last = None\n",
        "        temp = self.last\n",
        "        d = None\n",
        "        if (self.last).data == key:\n",
        "            while temp.next != self.last:\n",
        "                temp = temp.next\n",
        "            temp.next = (self.last).next\n",
        "            self.last = temp.next\n",
        "        while temp.next != self.last and temp.next.data != key:\n",
        "            temp = temp.next\n",
        "        if temp.next.data == key:\n",
        "            d = temp.next\n",
        "            temp.next = d.next\n",
        "    def pd(self):\n",
        "        if self.last == None:\n",
        "            print(\"The list is empty\")\n",
        "        else:\n",
        "         Nn = self.last.next\n",
        "         while Nn:\n",
        "            print(Nn.data)\n",
        "            Nn = Nn.next\n",
        "            if Nn == self.last.next:\n",
        "                break\n",
        "cll1=Cll()\n",
        "cll1.iob(3)\n",
        "cll1.iob(4)\n",
        "cll1.iob(5)\n",
        "cll1.iob(6)\n",
        "cll1.pd()\n",
        "cll1.dn(3)\n",
        "cll1.dn(6)\n",
        "print()\n",
        "cll1.pd()"
      ]
    },
    {
      "cell_type": "code",
      "source": [
        "#program to implement stack\n",
        "class stack:\n",
        "  def __init__(self):\n",
        "    self.li=[]\n",
        "    self.top=-1\n",
        "  def setlen(self,length):\n",
        "    self.length=length\n",
        "  def push(self,data):\n",
        "    if len(self.li)<=self.length:\n",
        "     self.li.append(data)\n",
        "     self.top=self.top+1\n",
        "    else:\n",
        "      print(\"stack overflow\")\n",
        "  def pop(self):\n",
        "    if self.top==-1:\n",
        "      print(\"stack underflow\")\n",
        "    else:\n",
        "     del self.li[-1]\n",
        "     self.top=self.top-1\n",
        "  def pl(self):\n",
        "    for i in range(1,len(self.li)+1):\n",
        "      print(self.li[-i])\n",
        "  def is_empty(self):\n",
        "    if self.top==0:\n",
        "      print(\"stack is empty\")\n",
        "    else:\n",
        "      print(\"stack is not empty\")\n",
        "  def top_ele(self):\n",
        "    print(\"top element is\",self.li[self.top])\n",
        "s1=stack()\n",
        "s1.setlen(2)\n",
        "s1.pop()\n",
        "s1.push(46)\n",
        "s1.push(844)\n",
        "s1.push(5)\n",
        "s1.push(7)\n",
        "s1.pl()\n",
        "s1.is_empty()\n",
        "s1.top_ele()\n",
        "while(True):\n",
        "  x=int(input((\"enter 1:PUSH 2:POP 3:PRINT STACK 4:IS_EMPTY 5:TOP_ELEMENT 6:STOP\")))\n",
        "  if x==1:\n",
        "    y=int(input(\"enter the element to be added\"))\n",
        "    s1.push(y)\n",
        "  elif x==2:\n",
        "    s1.pop()\n",
        "  elif x==3:\n",
        "    s1.pl()\n",
        "  elif x==4:\n",
        "    s1.is_empty()\n",
        "  elif x==5:\n",
        "    s1.top_ele()\n",
        "  elif x==6:\n",
        "    break;"
      ],
      "metadata": {
        "colab": {
          "base_uri": "https://localhost:8080/"
        },
        "id": "CzwvbsaWo4x9",
        "outputId": "aaf5b30c-d367-43d0-abed-792094f130e8"
      },
      "execution_count": null,
      "outputs": [
        {
          "name": "stdout",
          "output_type": "stream",
          "text": [
            "stack underflow\n",
            "stack overflow\n",
            "5\n",
            "844\n",
            "46\n",
            "stack is not empty\n",
            "top element is 5\n",
            "enter 1:PUSH 2:POP 3:PRINT STACK 4:IS_EMPTY 5:TOP_ELEMENT 6:STOP1\n",
            "enter the element to be added45\n",
            "stack overflow\n",
            "enter 1:PUSH 2:POP 3:PRINT STACK 4:IS_EMPTY 5:TOP_ELEMENT 6:STOP5\n",
            "top element is 5\n",
            "enter 1:PUSH 2:POP 3:PRINT STACK 4:IS_EMPTY 5:TOP_ELEMENT 6:STOP6\n"
          ]
        }
      ]
    }
  ]
}